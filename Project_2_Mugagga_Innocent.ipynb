{
  "nbformat": 4,
  "nbformat_minor": 0,
  "metadata": {
    "colab": {
      "provenance": [],
      "authorship_tag": "ABX9TyOuqSm6ecMtPZQUvfMRYKOy",
      "include_colab_link": true
    },
    "kernelspec": {
      "name": "python3",
      "display_name": "Python 3"
    },
    "language_info": {
      "name": "python"
    }
  },
  "cells": [
    {
      "cell_type": "markdown",
      "metadata": {
        "id": "view-in-github",
        "colab_type": "text"
      },
      "source": [
        "<a href=\"https://colab.research.google.com/github/imugagga/Sales-Predictions---JFood-Sores/blob/main/Project_2_Mugagga_Innocent.ipynb\" target=\"_parent\"><img src=\"https://colab.research.google.com/assets/colab-badge.svg\" alt=\"Open In Colab\"/></a>"
      ]
    },
    {
      "cell_type": "code",
      "source": [
        "#Mount data\n",
        "from google.colab import drive\n",
        "drive.mount('/content/drive')"
      ],
      "metadata": {
        "colab": {
          "base_uri": "https://localhost:8080/"
        },
        "id": "3-6tjZJoz-49",
        "outputId": "6a2196b6-8a7c-4b29-947f-b540549e9298"
      },
      "execution_count": 20,
      "outputs": [
        {
          "output_type": "stream",
          "name": "stdout",
          "text": [
            "Drive already mounted at /content/drive; to attempt to forcibly remount, call drive.mount(\"/content/drive\", force_remount=True).\n"
          ]
        }
      ]
    },
    {
      "cell_type": "markdown",
      "source": [
        "# **Dataset 1: Wheat Seeds Dataset**"
      ],
      "metadata": {
        "id": "cpLN1DDT6I9O"
      }
    },
    {
      "cell_type": "code",
      "source": [
        "#Import Pandas\n",
        "import pandas as pd\n",
        "#Read Data\n",
        "df = pd.read_csv('/content/drive/MyDrive/Colab Notebooks/Week 7/Project 2/Uploads/Seed_Data.csv')\n",
        "df.head()"
      ],
      "metadata": {
        "colab": {
          "base_uri": "https://localhost:8080/",
          "height": 206
        },
        "id": "pIWcmPVh2fbT",
        "outputId": "43b97c5b-5f2a-4c9c-c43e-c8004d1f3643"
      },
      "execution_count": 21,
      "outputs": [
        {
          "output_type": "execute_result",
          "data": {
            "text/plain": [
              "       A      P       C     LK     WK  A_Coef    LKG  target\n",
              "0  15.26  14.84  0.8710  5.763  3.312   2.221  5.220       0\n",
              "1  14.88  14.57  0.8811  5.554  3.333   1.018  4.956       0\n",
              "2  14.29  14.09  0.9050  5.291  3.337   2.699  4.825       0\n",
              "3  13.84  13.94  0.8955  5.324  3.379   2.259  4.805       0\n",
              "4  16.14  14.99  0.9034  5.658  3.562   1.355  5.175       0"
            ],
            "text/html": [
              "\n",
              "  <div id=\"df-816fd17d-7fa2-4622-9430-65a5da26e71a\">\n",
              "    <div class=\"colab-df-container\">\n",
              "      <div>\n",
              "<style scoped>\n",
              "    .dataframe tbody tr th:only-of-type {\n",
              "        vertical-align: middle;\n",
              "    }\n",
              "\n",
              "    .dataframe tbody tr th {\n",
              "        vertical-align: top;\n",
              "    }\n",
              "\n",
              "    .dataframe thead th {\n",
              "        text-align: right;\n",
              "    }\n",
              "</style>\n",
              "<table border=\"1\" class=\"dataframe\">\n",
              "  <thead>\n",
              "    <tr style=\"text-align: right;\">\n",
              "      <th></th>\n",
              "      <th>A</th>\n",
              "      <th>P</th>\n",
              "      <th>C</th>\n",
              "      <th>LK</th>\n",
              "      <th>WK</th>\n",
              "      <th>A_Coef</th>\n",
              "      <th>LKG</th>\n",
              "      <th>target</th>\n",
              "    </tr>\n",
              "  </thead>\n",
              "  <tbody>\n",
              "    <tr>\n",
              "      <th>0</th>\n",
              "      <td>15.26</td>\n",
              "      <td>14.84</td>\n",
              "      <td>0.8710</td>\n",
              "      <td>5.763</td>\n",
              "      <td>3.312</td>\n",
              "      <td>2.221</td>\n",
              "      <td>5.220</td>\n",
              "      <td>0</td>\n",
              "    </tr>\n",
              "    <tr>\n",
              "      <th>1</th>\n",
              "      <td>14.88</td>\n",
              "      <td>14.57</td>\n",
              "      <td>0.8811</td>\n",
              "      <td>5.554</td>\n",
              "      <td>3.333</td>\n",
              "      <td>1.018</td>\n",
              "      <td>4.956</td>\n",
              "      <td>0</td>\n",
              "    </tr>\n",
              "    <tr>\n",
              "      <th>2</th>\n",
              "      <td>14.29</td>\n",
              "      <td>14.09</td>\n",
              "      <td>0.9050</td>\n",
              "      <td>5.291</td>\n",
              "      <td>3.337</td>\n",
              "      <td>2.699</td>\n",
              "      <td>4.825</td>\n",
              "      <td>0</td>\n",
              "    </tr>\n",
              "    <tr>\n",
              "      <th>3</th>\n",
              "      <td>13.84</td>\n",
              "      <td>13.94</td>\n",
              "      <td>0.8955</td>\n",
              "      <td>5.324</td>\n",
              "      <td>3.379</td>\n",
              "      <td>2.259</td>\n",
              "      <td>4.805</td>\n",
              "      <td>0</td>\n",
              "    </tr>\n",
              "    <tr>\n",
              "      <th>4</th>\n",
              "      <td>16.14</td>\n",
              "      <td>14.99</td>\n",
              "      <td>0.9034</td>\n",
              "      <td>5.658</td>\n",
              "      <td>3.562</td>\n",
              "      <td>1.355</td>\n",
              "      <td>5.175</td>\n",
              "      <td>0</td>\n",
              "    </tr>\n",
              "  </tbody>\n",
              "</table>\n",
              "</div>\n",
              "      <button class=\"colab-df-convert\" onclick=\"convertToInteractive('df-816fd17d-7fa2-4622-9430-65a5da26e71a')\"\n",
              "              title=\"Convert this dataframe to an interactive table.\"\n",
              "              style=\"display:none;\">\n",
              "        \n",
              "  <svg xmlns=\"http://www.w3.org/2000/svg\" height=\"24px\"viewBox=\"0 0 24 24\"\n",
              "       width=\"24px\">\n",
              "    <path d=\"M0 0h24v24H0V0z\" fill=\"none\"/>\n",
              "    <path d=\"M18.56 5.44l.94 2.06.94-2.06 2.06-.94-2.06-.94-.94-2.06-.94 2.06-2.06.94zm-11 1L8.5 8.5l.94-2.06 2.06-.94-2.06-.94L8.5 2.5l-.94 2.06-2.06.94zm10 10l.94 2.06.94-2.06 2.06-.94-2.06-.94-.94-2.06-.94 2.06-2.06.94z\"/><path d=\"M17.41 7.96l-1.37-1.37c-.4-.4-.92-.59-1.43-.59-.52 0-1.04.2-1.43.59L10.3 9.45l-7.72 7.72c-.78.78-.78 2.05 0 2.83L4 21.41c.39.39.9.59 1.41.59.51 0 1.02-.2 1.41-.59l7.78-7.78 2.81-2.81c.8-.78.8-2.07 0-2.86zM5.41 20L4 18.59l7.72-7.72 1.47 1.35L5.41 20z\"/>\n",
              "  </svg>\n",
              "      </button>\n",
              "      \n",
              "  <style>\n",
              "    .colab-df-container {\n",
              "      display:flex;\n",
              "      flex-wrap:wrap;\n",
              "      gap: 12px;\n",
              "    }\n",
              "\n",
              "    .colab-df-convert {\n",
              "      background-color: #E8F0FE;\n",
              "      border: none;\n",
              "      border-radius: 50%;\n",
              "      cursor: pointer;\n",
              "      display: none;\n",
              "      fill: #1967D2;\n",
              "      height: 32px;\n",
              "      padding: 0 0 0 0;\n",
              "      width: 32px;\n",
              "    }\n",
              "\n",
              "    .colab-df-convert:hover {\n",
              "      background-color: #E2EBFA;\n",
              "      box-shadow: 0px 1px 2px rgba(60, 64, 67, 0.3), 0px 1px 3px 1px rgba(60, 64, 67, 0.15);\n",
              "      fill: #174EA6;\n",
              "    }\n",
              "\n",
              "    [theme=dark] .colab-df-convert {\n",
              "      background-color: #3B4455;\n",
              "      fill: #D2E3FC;\n",
              "    }\n",
              "\n",
              "    [theme=dark] .colab-df-convert:hover {\n",
              "      background-color: #434B5C;\n",
              "      box-shadow: 0px 1px 3px 1px rgba(0, 0, 0, 0.15);\n",
              "      filter: drop-shadow(0px 1px 2px rgba(0, 0, 0, 0.3));\n",
              "      fill: #FFFFFF;\n",
              "    }\n",
              "  </style>\n",
              "\n",
              "      <script>\n",
              "        const buttonEl =\n",
              "          document.querySelector('#df-816fd17d-7fa2-4622-9430-65a5da26e71a button.colab-df-convert');\n",
              "        buttonEl.style.display =\n",
              "          google.colab.kernel.accessAllowed ? 'block' : 'none';\n",
              "\n",
              "        async function convertToInteractive(key) {\n",
              "          const element = document.querySelector('#df-816fd17d-7fa2-4622-9430-65a5da26e71a');\n",
              "          const dataTable =\n",
              "            await google.colab.kernel.invokeFunction('convertToInteractive',\n",
              "                                                     [key], {});\n",
              "          if (!dataTable) return;\n",
              "\n",
              "          const docLinkHtml = 'Like what you see? Visit the ' +\n",
              "            '<a target=\"_blank\" href=https://colab.research.google.com/notebooks/data_table.ipynb>data table notebook</a>'\n",
              "            + ' to learn more about interactive tables.';\n",
              "          element.innerHTML = '';\n",
              "          dataTable['output_type'] = 'display_data';\n",
              "          await google.colab.output.renderOutput(dataTable, element);\n",
              "          const docLink = document.createElement('div');\n",
              "          docLink.innerHTML = docLinkHtml;\n",
              "          element.appendChild(docLink);\n",
              "        }\n",
              "      </script>\n",
              "    </div>\n",
              "  </div>\n",
              "  "
            ]
          },
          "metadata": {},
          "execution_count": 21
        }
      ]
    },
    {
      "cell_type": "code",
      "source": [
        "#Features\n",
        "len(list(df.columns))"
      ],
      "metadata": {
        "colab": {
          "base_uri": "https://localhost:8080/"
        },
        "id": "dTmZ8k5KOQLs",
        "outputId": "2c35a7e9-e53b-4e3a-e72a-eb8036341815"
      },
      "execution_count": 22,
      "outputs": [
        {
          "output_type": "execute_result",
          "data": {
            "text/plain": [
              "8"
            ]
          },
          "metadata": {},
          "execution_count": 22
        }
      ]
    },
    {
      "cell_type": "code",
      "source": [
        "#Data Shape\n",
        "df.shape"
      ],
      "metadata": {
        "colab": {
          "base_uri": "https://localhost:8080/"
        },
        "id": "XOksLF6gOWBz",
        "outputId": "28557d83-37c2-4905-c9c6-4181f7edef40"
      },
      "execution_count": 23,
      "outputs": [
        {
          "output_type": "execute_result",
          "data": {
            "text/plain": [
              "(210, 8)"
            ]
          },
          "metadata": {},
          "execution_count": 23
        }
      ]
    },
    {
      "cell_type": "markdown",
      "source": [
        "1) Source of data\n",
        "```\n",
        "https://www.kaggle.com/datasets/dongeorge/seed-from-uci?resource=download\n",
        "```\n",
        "\n",
        "***2) Brief description of data***\n",
        "```\n",
        "The Wheat Seeds Dataset involves the prediction of Wheat species.\n",
        "Includes the given measurements of seeds from different varieties of wheat.\n",
        "\n",
        "There are 210 observations with 7 input variables and 1 output variable.\n",
        "\n",
        "The examined group comprised kernels belonging to three different varieties of wheat: Kama, Rosa and Canadian, 70 elements each, randomly selected for\n",
        "```\n",
        "***3) What is the target?***\n",
        "```\n",
        "Prediction of species Class of the Wheat from three different varieties of the wheat - Cluster\n",
        "Class (1, 2, 3).\n",
        "```\n",
        "\n",
        "*4) Is this a classification or regression problem?*\n",
        "```\n",
        "Classification Problem\n",
        "The number of observations for each class is balanced. \n",
        "```\n",
        "5) How many features?\n",
        "```\n",
        "There are 7 Features.\n",
        "1. Area.\n",
        "2. Perimeter.\n",
        "3. Compactness\n",
        "3. Length of kernel.\n",
        "4. Width of kernel.\n",
        "5. Asymmetry coefficient.\n",
        "6. Length of kernel groove.\n",
        "```\n",
        "6) How many rows of data.\n",
        "```\n",
        "Rows: 210\n",
        "```\n",
        "7) What, if any, challenges do your foresee in cleaning, exploring, or modeling with this dataset?\n",
        "```\n",
        "The level of correlation of the features to the target.\n",
        "```\n"
      ],
      "metadata": {
        "id": "3xFmvGipvKPZ"
      }
    },
    {
      "cell_type": "markdown",
      "source": [
        "# **Dataset 2: Vehicle dataset**\n",
        "\n",
        "*Used Cars data form websites*"
      ],
      "metadata": {
        "id": "UUFLgcpFrYKj"
      }
    },
    {
      "cell_type": "code",
      "source": [
        "#Read Data\n",
        "df = pd.read_csv('/content/drive/MyDrive/Colab Notebooks/Week 7/Uploads/car details v4.csv')\n",
        "df.head()"
      ],
      "metadata": {
        "colab": {
          "base_uri": "https://localhost:8080/",
          "height": 652
        },
        "id": "ijfqq8ShIGoY",
        "outputId": "06e34086-2e33-48a1-a82a-9651503c2440"
      },
      "execution_count": 24,
      "outputs": [
        {
          "output_type": "execute_result",
          "data": {
            "text/plain": [
              "            Make                            Model    Price  Year  Kilometer  \\\n",
              "0          Honda              Amaze 1.2 VX i-VTEC   505000  2017      87150   \n",
              "1  Maruti Suzuki                  Swift DZire VDI   450000  2014      75000   \n",
              "2        Hyundai             i10 Magna 1.2 Kappa2   220000  2011      67000   \n",
              "3         Toyota                         Glanza G   799000  2019      37500   \n",
              "4         Toyota  Innova 2.4 VX 7 STR [2016-2020]  1950000  2018      69000   \n",
              "\n",
              "  Fuel Type Transmission   Location   Color   Owner Seller Type   Engine  \\\n",
              "0    Petrol       Manual       Pune    Grey   First   Corporate  1198 cc   \n",
              "1    Diesel       Manual   Ludhiana   White  Second  Individual  1248 cc   \n",
              "2    Petrol       Manual    Lucknow  Maroon   First  Individual  1197 cc   \n",
              "3    Petrol       Manual  Mangalore     Red   First  Individual  1197 cc   \n",
              "4    Diesel       Manual     Mumbai    Grey   First  Individual  2393 cc   \n",
              "\n",
              "            Max Power              Max Torque Drivetrain  Length   Width  \\\n",
              "0   87 bhp @ 6000 rpm       109 Nm @ 4500 rpm        FWD  3990.0  1680.0   \n",
              "1   74 bhp @ 4000 rpm       190 Nm @ 2000 rpm        FWD  3995.0  1695.0   \n",
              "2   79 bhp @ 6000 rpm  112.7619 Nm @ 4000 rpm        FWD  3585.0  1595.0   \n",
              "3   82 bhp @ 6000 rpm       113 Nm @ 4200 rpm        FWD  3995.0  1745.0   \n",
              "4  148 bhp @ 3400 rpm       343 Nm @ 1400 rpm        RWD  4735.0  1830.0   \n",
              "\n",
              "   Height  Seating Capacity  Fuel Tank Capacity  \n",
              "0  1505.0               5.0                35.0  \n",
              "1  1555.0               5.0                42.0  \n",
              "2  1550.0               5.0                35.0  \n",
              "3  1510.0               5.0                37.0  \n",
              "4  1795.0               7.0                55.0  "
            ],
            "text/html": [
              "\n",
              "  <div id=\"df-12396c9b-c1b0-4766-a58e-a14f5acfd2a0\">\n",
              "    <div class=\"colab-df-container\">\n",
              "      <div>\n",
              "<style scoped>\n",
              "    .dataframe tbody tr th:only-of-type {\n",
              "        vertical-align: middle;\n",
              "    }\n",
              "\n",
              "    .dataframe tbody tr th {\n",
              "        vertical-align: top;\n",
              "    }\n",
              "\n",
              "    .dataframe thead th {\n",
              "        text-align: right;\n",
              "    }\n",
              "</style>\n",
              "<table border=\"1\" class=\"dataframe\">\n",
              "  <thead>\n",
              "    <tr style=\"text-align: right;\">\n",
              "      <th></th>\n",
              "      <th>Make</th>\n",
              "      <th>Model</th>\n",
              "      <th>Price</th>\n",
              "      <th>Year</th>\n",
              "      <th>Kilometer</th>\n",
              "      <th>Fuel Type</th>\n",
              "      <th>Transmission</th>\n",
              "      <th>Location</th>\n",
              "      <th>Color</th>\n",
              "      <th>Owner</th>\n",
              "      <th>Seller Type</th>\n",
              "      <th>Engine</th>\n",
              "      <th>Max Power</th>\n",
              "      <th>Max Torque</th>\n",
              "      <th>Drivetrain</th>\n",
              "      <th>Length</th>\n",
              "      <th>Width</th>\n",
              "      <th>Height</th>\n",
              "      <th>Seating Capacity</th>\n",
              "      <th>Fuel Tank Capacity</th>\n",
              "    </tr>\n",
              "  </thead>\n",
              "  <tbody>\n",
              "    <tr>\n",
              "      <th>0</th>\n",
              "      <td>Honda</td>\n",
              "      <td>Amaze 1.2 VX i-VTEC</td>\n",
              "      <td>505000</td>\n",
              "      <td>2017</td>\n",
              "      <td>87150</td>\n",
              "      <td>Petrol</td>\n",
              "      <td>Manual</td>\n",
              "      <td>Pune</td>\n",
              "      <td>Grey</td>\n",
              "      <td>First</td>\n",
              "      <td>Corporate</td>\n",
              "      <td>1198 cc</td>\n",
              "      <td>87 bhp @ 6000 rpm</td>\n",
              "      <td>109 Nm @ 4500 rpm</td>\n",
              "      <td>FWD</td>\n",
              "      <td>3990.0</td>\n",
              "      <td>1680.0</td>\n",
              "      <td>1505.0</td>\n",
              "      <td>5.0</td>\n",
              "      <td>35.0</td>\n",
              "    </tr>\n",
              "    <tr>\n",
              "      <th>1</th>\n",
              "      <td>Maruti Suzuki</td>\n",
              "      <td>Swift DZire VDI</td>\n",
              "      <td>450000</td>\n",
              "      <td>2014</td>\n",
              "      <td>75000</td>\n",
              "      <td>Diesel</td>\n",
              "      <td>Manual</td>\n",
              "      <td>Ludhiana</td>\n",
              "      <td>White</td>\n",
              "      <td>Second</td>\n",
              "      <td>Individual</td>\n",
              "      <td>1248 cc</td>\n",
              "      <td>74 bhp @ 4000 rpm</td>\n",
              "      <td>190 Nm @ 2000 rpm</td>\n",
              "      <td>FWD</td>\n",
              "      <td>3995.0</td>\n",
              "      <td>1695.0</td>\n",
              "      <td>1555.0</td>\n",
              "      <td>5.0</td>\n",
              "      <td>42.0</td>\n",
              "    </tr>\n",
              "    <tr>\n",
              "      <th>2</th>\n",
              "      <td>Hyundai</td>\n",
              "      <td>i10 Magna 1.2 Kappa2</td>\n",
              "      <td>220000</td>\n",
              "      <td>2011</td>\n",
              "      <td>67000</td>\n",
              "      <td>Petrol</td>\n",
              "      <td>Manual</td>\n",
              "      <td>Lucknow</td>\n",
              "      <td>Maroon</td>\n",
              "      <td>First</td>\n",
              "      <td>Individual</td>\n",
              "      <td>1197 cc</td>\n",
              "      <td>79 bhp @ 6000 rpm</td>\n",
              "      <td>112.7619 Nm @ 4000 rpm</td>\n",
              "      <td>FWD</td>\n",
              "      <td>3585.0</td>\n",
              "      <td>1595.0</td>\n",
              "      <td>1550.0</td>\n",
              "      <td>5.0</td>\n",
              "      <td>35.0</td>\n",
              "    </tr>\n",
              "    <tr>\n",
              "      <th>3</th>\n",
              "      <td>Toyota</td>\n",
              "      <td>Glanza G</td>\n",
              "      <td>799000</td>\n",
              "      <td>2019</td>\n",
              "      <td>37500</td>\n",
              "      <td>Petrol</td>\n",
              "      <td>Manual</td>\n",
              "      <td>Mangalore</td>\n",
              "      <td>Red</td>\n",
              "      <td>First</td>\n",
              "      <td>Individual</td>\n",
              "      <td>1197 cc</td>\n",
              "      <td>82 bhp @ 6000 rpm</td>\n",
              "      <td>113 Nm @ 4200 rpm</td>\n",
              "      <td>FWD</td>\n",
              "      <td>3995.0</td>\n",
              "      <td>1745.0</td>\n",
              "      <td>1510.0</td>\n",
              "      <td>5.0</td>\n",
              "      <td>37.0</td>\n",
              "    </tr>\n",
              "    <tr>\n",
              "      <th>4</th>\n",
              "      <td>Toyota</td>\n",
              "      <td>Innova 2.4 VX 7 STR [2016-2020]</td>\n",
              "      <td>1950000</td>\n",
              "      <td>2018</td>\n",
              "      <td>69000</td>\n",
              "      <td>Diesel</td>\n",
              "      <td>Manual</td>\n",
              "      <td>Mumbai</td>\n",
              "      <td>Grey</td>\n",
              "      <td>First</td>\n",
              "      <td>Individual</td>\n",
              "      <td>2393 cc</td>\n",
              "      <td>148 bhp @ 3400 rpm</td>\n",
              "      <td>343 Nm @ 1400 rpm</td>\n",
              "      <td>RWD</td>\n",
              "      <td>4735.0</td>\n",
              "      <td>1830.0</td>\n",
              "      <td>1795.0</td>\n",
              "      <td>7.0</td>\n",
              "      <td>55.0</td>\n",
              "    </tr>\n",
              "  </tbody>\n",
              "</table>\n",
              "</div>\n",
              "      <button class=\"colab-df-convert\" onclick=\"convertToInteractive('df-12396c9b-c1b0-4766-a58e-a14f5acfd2a0')\"\n",
              "              title=\"Convert this dataframe to an interactive table.\"\n",
              "              style=\"display:none;\">\n",
              "        \n",
              "  <svg xmlns=\"http://www.w3.org/2000/svg\" height=\"24px\"viewBox=\"0 0 24 24\"\n",
              "       width=\"24px\">\n",
              "    <path d=\"M0 0h24v24H0V0z\" fill=\"none\"/>\n",
              "    <path d=\"M18.56 5.44l.94 2.06.94-2.06 2.06-.94-2.06-.94-.94-2.06-.94 2.06-2.06.94zm-11 1L8.5 8.5l.94-2.06 2.06-.94-2.06-.94L8.5 2.5l-.94 2.06-2.06.94zm10 10l.94 2.06.94-2.06 2.06-.94-2.06-.94-.94-2.06-.94 2.06-2.06.94z\"/><path d=\"M17.41 7.96l-1.37-1.37c-.4-.4-.92-.59-1.43-.59-.52 0-1.04.2-1.43.59L10.3 9.45l-7.72 7.72c-.78.78-.78 2.05 0 2.83L4 21.41c.39.39.9.59 1.41.59.51 0 1.02-.2 1.41-.59l7.78-7.78 2.81-2.81c.8-.78.8-2.07 0-2.86zM5.41 20L4 18.59l7.72-7.72 1.47 1.35L5.41 20z\"/>\n",
              "  </svg>\n",
              "      </button>\n",
              "      \n",
              "  <style>\n",
              "    .colab-df-container {\n",
              "      display:flex;\n",
              "      flex-wrap:wrap;\n",
              "      gap: 12px;\n",
              "    }\n",
              "\n",
              "    .colab-df-convert {\n",
              "      background-color: #E8F0FE;\n",
              "      border: none;\n",
              "      border-radius: 50%;\n",
              "      cursor: pointer;\n",
              "      display: none;\n",
              "      fill: #1967D2;\n",
              "      height: 32px;\n",
              "      padding: 0 0 0 0;\n",
              "      width: 32px;\n",
              "    }\n",
              "\n",
              "    .colab-df-convert:hover {\n",
              "      background-color: #E2EBFA;\n",
              "      box-shadow: 0px 1px 2px rgba(60, 64, 67, 0.3), 0px 1px 3px 1px rgba(60, 64, 67, 0.15);\n",
              "      fill: #174EA6;\n",
              "    }\n",
              "\n",
              "    [theme=dark] .colab-df-convert {\n",
              "      background-color: #3B4455;\n",
              "      fill: #D2E3FC;\n",
              "    }\n",
              "\n",
              "    [theme=dark] .colab-df-convert:hover {\n",
              "      background-color: #434B5C;\n",
              "      box-shadow: 0px 1px 3px 1px rgba(0, 0, 0, 0.15);\n",
              "      filter: drop-shadow(0px 1px 2px rgba(0, 0, 0, 0.3));\n",
              "      fill: #FFFFFF;\n",
              "    }\n",
              "  </style>\n",
              "\n",
              "      <script>\n",
              "        const buttonEl =\n",
              "          document.querySelector('#df-12396c9b-c1b0-4766-a58e-a14f5acfd2a0 button.colab-df-convert');\n",
              "        buttonEl.style.display =\n",
              "          google.colab.kernel.accessAllowed ? 'block' : 'none';\n",
              "\n",
              "        async function convertToInteractive(key) {\n",
              "          const element = document.querySelector('#df-12396c9b-c1b0-4766-a58e-a14f5acfd2a0');\n",
              "          const dataTable =\n",
              "            await google.colab.kernel.invokeFunction('convertToInteractive',\n",
              "                                                     [key], {});\n",
              "          if (!dataTable) return;\n",
              "\n",
              "          const docLinkHtml = 'Like what you see? Visit the ' +\n",
              "            '<a target=\"_blank\" href=https://colab.research.google.com/notebooks/data_table.ipynb>data table notebook</a>'\n",
              "            + ' to learn more about interactive tables.';\n",
              "          element.innerHTML = '';\n",
              "          dataTable['output_type'] = 'display_data';\n",
              "          await google.colab.output.renderOutput(dataTable, element);\n",
              "          const docLink = document.createElement('div');\n",
              "          docLink.innerHTML = docLinkHtml;\n",
              "          element.appendChild(docLink);\n",
              "        }\n",
              "      </script>\n",
              "    </div>\n",
              "  </div>\n",
              "  "
            ]
          },
          "metadata": {},
          "execution_count": 24
        }
      ]
    },
    {
      "cell_type": "code",
      "source": [
        "#Features\n",
        "len(list(df.columns))"
      ],
      "metadata": {
        "colab": {
          "base_uri": "https://localhost:8080/"
        },
        "id": "zdlNIPsINGGG",
        "outputId": "5124c111-e88c-4937-9218-ea93d315660f"
      },
      "execution_count": 25,
      "outputs": [
        {
          "output_type": "execute_result",
          "data": {
            "text/plain": [
              "20"
            ]
          },
          "metadata": {},
          "execution_count": 25
        }
      ]
    },
    {
      "cell_type": "code",
      "source": [
        "#Data Shape\n",
        "df.shape"
      ],
      "metadata": {
        "colab": {
          "base_uri": "https://localhost:8080/"
        },
        "id": "zCQJQdzTOeLs",
        "outputId": "ac3ef021-9b9e-4700-deb8-b602e716bff9"
      },
      "execution_count": 26,
      "outputs": [
        {
          "output_type": "execute_result",
          "data": {
            "text/plain": [
              "(2059, 20)"
            ]
          },
          "metadata": {},
          "execution_count": 26
        }
      ]
    },
    {
      "cell_type": "markdown",
      "source": [
        "1) Source of data\n",
        "```\n",
        "https://www.kaggle.com/datasets/nehalbirla/vehicle-dataset-from-cardekho?select=Car+details+v3.csv\n",
        "```\n",
        "\n",
        "***2) Brief description of data***\n",
        "```\n",
        "This dataset contains information about used cars.\n",
        "This data can be used for a lot of purposes such as price prediction to exemplify the use of linear regression in Machine Learning.\n",
        "```\n",
        "***3) What is the target?***\n",
        "```\n",
        "Prediction of the price of the Used Cars\n",
        "```\n",
        "\n",
        "*4) Is this a classification or regression problem?*\n",
        "```\n",
        "Regression Problem \n",
        "```\n",
        "5) How many features?\n",
        "```\n",
        "There are 19 Features.\n",
        "```\n",
        "6) How many rows of data.\n",
        "```\n",
        "Rows: 2059\n",
        "```\n",
        "7) What, if any, challenges do your foresee in cleaning, exploring, or modeling with this dataset?\n",
        "```\n",
        "Some Features are combined and may require separation\n",
        "```\n"
      ],
      "metadata": {
        "id": "pEOCRo7BLuzp"
      }
    }
  ]
}